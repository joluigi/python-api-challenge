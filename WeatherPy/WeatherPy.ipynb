{
 "cells": [
  {
   "cell_type": "markdown",
   "metadata": {},
   "source": [
    "# WeatherPy\n",
    "----\n",
    "\n",
    "#### Note\n",
    "* Instructions have been included for each segment. You do not have to follow them exactly, but they are included to help you think through the steps."
   ]
  },
  {
   "cell_type": "code",
   "execution_count": 22,
   "metadata": {
    "scrolled": true
   },
   "outputs": [],
   "source": [
    "# Dependencies and Setup\n",
    "import matplotlib.pyplot as plt\n",
    "import pandas as pd\n",
    "import numpy as np\n",
    "import requests\n",
    "import time\n",
    "from scipy.stats import linregress\n",
    "from pprint import pprint\n",
    "\n",
    "# Import API key\n",
    "from g_config import gcode\n",
    "from w_config import wcode\n",
    "\n",
    "# Incorporated citipy to determine city based on latitude and longitude\n",
    "from citipy import citipy\n",
    "\n",
    "# Output File (CSV)\n",
    "output_data_file = \"output_data/cities.csv\"\n",
    "\n",
    "# Range of latitudes and longitudes\n",
    "lat_range = (-90, 90)\n",
    "lng_range = (-180, 180)"
   ]
  },
  {
   "cell_type": "markdown",
   "metadata": {},
   "source": [
    "## Generate Cities List"
   ]
  },
  {
   "cell_type": "code",
   "execution_count": 23,
   "metadata": {},
   "outputs": [
    {
     "data": {
      "text/plain": [
       "640"
      ]
     },
     "execution_count": 23,
     "metadata": {},
     "output_type": "execute_result"
    }
   ],
   "source": [
    "# List for holding lat_lngs and cities\n",
    "lat_lngs = []\n",
    "cities = []\n",
    "\n",
    "# Create a set of random lat and lng combinations\n",
    "lats = np.random.uniform(lat_range[0], lat_range[1], size=1500)\n",
    "lngs = np.random.uniform(lng_range[0], lng_range[1], size=1500)\n",
    "lat_lngs = zip(lats, lngs)\n",
    "\n",
    "# Identify nearest city for each lat, lng combination\n",
    "for lat_lng in lat_lngs:\n",
    "    city = citipy.nearest_city(lat_lng[0], lat_lng[1]).city_name\n",
    "    \n",
    "    # If the city is unique, then add it to a our cities list\n",
    "    if city not in cities:\n",
    "        cities.append(city)\n",
    "\n",
    "# Print the city count to confirm sufficient count\n",
    "len(cities)"
   ]
  },
  {
   "cell_type": "markdown",
   "metadata": {},
   "source": [
    "### Perform API Calls\n",
    "* Perform a weather check on each city using a series of successive API calls.\n",
    "* Include a print log of each city as it'sbeing processed (with the city number and city name).\n"
   ]
  },
  {
   "cell_type": "code",
   "execution_count": 24,
   "metadata": {},
   "outputs": [
    {
     "name": "stdout",
     "output_type": "stream",
     "text": [
      "{'base': 'stations',\n",
      " 'clouds': {'all': 90},\n",
      " 'cod': 200,\n",
      " 'coord': {'lat': 29.7633, 'lon': -95.3633},\n",
      " 'dt': 1613246329,\n",
      " 'id': 4699066,\n",
      " 'main': {'feels_like': -2.28,\n",
      "          'humidity': 75,\n",
      "          'pressure': 1018,\n",
      "          'temp': 3.39,\n",
      "          'temp_max': 4.44,\n",
      "          'temp_min': 2.22},\n",
      " 'name': 'Houston',\n",
      " 'sys': {'country': 'US',\n",
      "         'id': 4850,\n",
      "         'sunrise': 1613221358,\n",
      "         'sunset': 1613261334,\n",
      "         'type': 1},\n",
      " 'timezone': -21600,\n",
      " 'visibility': 10000,\n",
      " 'weather': [{'description': 'overcast clouds',\n",
      "              'icon': '04d',\n",
      "              'id': 804,\n",
      "              'main': 'Clouds'}],\n",
      " 'wind': {'deg': 350, 'gust': 11.32, 'speed': 5.14}}\n",
      "Latitude: 29.7633\n",
      "Longitude: -95.3633\n",
      "Max temp: 4.44\n",
      "Humidity: 75\n",
      "Cloudiness: 90\n",
      "Wind speed: 5.14\n",
      "Country: US\n",
      "Date: 1613246329\n"
     ]
    }
   ],
   "source": [
    "# This is just a test of variables to use in the dataframe\n",
    "\n",
    "city_name = 'houston'\n",
    "url = f'http://api.openweathermap.org/data/2.5/weather?q={city_name}&units=metric&appid={wcode}'\n",
    "response = requests.get(url)\n",
    "data_val = response.json()\n",
    "pprint(data_val)\n",
    "\n",
    "print(f\"Latitude: {data_val['coord']['lat']}\")\n",
    "print(f\"Longitude: {data_val['coord']['lon']}\")\n",
    "print(f\"Max temp: {data_val['main']['temp_max']}\")\n",
    "print(f\"Humidity: {data_val['main']['humidity']}\")\n",
    "print(f\"Cloudiness: {data_val['clouds']['all']}\")\n",
    "print(f\"Wind speed: {data_val['wind']['speed']}\")\n",
    "print(f\"Country: {data_val['sys']['country']}\")\n",
    "print(f\"Date: {data_val['dt']}\")\n"
   ]
  },
  {
   "cell_type": "code",
   "execution_count": 25,
   "metadata": {
    "scrolled": true
   },
   "outputs": [
    {
     "name": "stdout",
     "output_type": "stream",
     "text": [
      "Checking available cities\n",
      "----------------------------\n",
      "City not found. Skipping to next recording\n",
      "Recording No. 1: samarai\n",
      "Recording No. 2: bethel\n",
      "Recording No. 3: morro bay\n",
      "Recording No. 4: ribeira grande\n",
      "Recording No. 5: esperance\n",
      "Recording No. 6: biak\n",
      "Recording No. 7: kapaa\n",
      "Recording No. 8: cherskiy\n",
      "Recording No. 9: karachi\n",
      "Recording No. 10: albany\n",
      "Recording No. 11: gorontalo\n",
      "City not found. Skipping to next recording\n",
      "City not found. Skipping to next recording\n",
      "Recording No. 12: tiksi\n",
      "Recording No. 13: san jose\n",
      "Recording No. 14: suez\n",
      "Recording No. 15: leshukonskoye\n",
      "Recording No. 16: saint-pierre\n",
      "City not found. Skipping to next recording\n",
      "Recording No. 17: jamestown\n",
      "Recording No. 18: aksu\n",
      "Recording No. 19: busselton\n",
      "Recording No. 20: hermanus\n",
      "Recording No. 21: khatanga\n",
      "Recording No. 22: east london\n",
      "Recording No. 23: belaya kholunitsa\n",
      "Recording No. 24: tual\n",
      "Recording No. 25: castro\n",
      "Recording No. 26: mataura\n",
      "Recording No. 27: fare\n",
      "Recording No. 28: rikitea\n",
      "Recording No. 29: ushuaia\n",
      "Recording No. 30: new norfolk\n",
      "City not found. Skipping to next recording\n",
      "Recording No. 31: port macquarie\n",
      "Recording No. 32: port alfred\n",
      "Recording No. 33: hilo\n",
      "Recording No. 34: lorengau\n",
      "Recording No. 35: vaini\n",
      "Recording No. 36: hobart\n",
      "Recording No. 37: caravelas\n",
      "Recording No. 38: makakilo city\n",
      "Recording No. 39: kalininsk\n",
      "Recording No. 40: lipin bor\n",
      "Recording No. 41: karratha\n",
      "Recording No. 42: angoche\n",
      "Recording No. 43: henties bay\n",
      "Recording No. 44: atuona\n",
      "Recording No. 45: hofn\n"
     ]
    }
   ],
   "source": [
    "print('Checking available cities')\n",
    "print('----------------------------')\n",
    "number = 0\n",
    "city_n =[]\n",
    "lat =[]\n",
    "lon =[]\n",
    "max_temp =[]\n",
    "humidity =[]\n",
    "cloudiness =[]\n",
    "w_speed =[]\n",
    "country =[]\n",
    "date =[]\n",
    "\n",
    "for city in cities[0:50]:\n",
    "    \n",
    "    url = f'http://api.openweathermap.org/data/2.5/weather?q={city}&units=metric&appid={wcode}'\n",
    "    response = requests.get(url)\n",
    "    data_val = response.json()\n",
    "    \n",
    "    if str(response) == '<Response [404]>':\n",
    "        print(f'City not found. Skipping to next recording')\n",
    "    else:\n",
    "        number+=1\n",
    "        print(f'Recording No. {number}: {city}') \n",
    "        city_n.append(city)\n",
    "        lat.append(data_val['coord']['lat'])\n",
    "        lon.append(data_val['coord']['lon'])\n",
    "        max_temp.append(data_val['main']['temp_max'])\n",
    "        humidity.append(data_val['main']['humidity'])\n",
    "        cloudiness.append(data_val['clouds']['all'])\n",
    "        w_speed.append(data_val['wind']['speed'])\n",
    "        country.append(data_val['sys']['country'])\n",
    "        date.append(data_val['dt'])\n",
    "\n",
    "print('----------------------------')        \n",
    "print('Data retrieval complete')\n",
    "    "
   ]
  },
  {
   "cell_type": "code",
   "execution_count": 13,
   "metadata": {
    "scrolled": true
   },
   "outputs": [
    {
     "name": "stdout",
     "output_type": "stream",
     "text": [
      "Beginning Data Retrieval     \n",
      "-----------------------------\n",
      "Processing Record 1 of Set 1 | butaritari\n",
      "Processing Record 2 of Set 1 | yerbogachen\n",
      "Processing Record 3 of Set 1 | cape town\n",
      "Processing Record 4 of Set 1 | touba\n",
      "Processing Record 5 of Set 1 | jamestown\n",
      "Processing Record 6 of Set 1 | rio grande\n",
      "Processing Record 7 of Set 1 | ibra\n",
      "Processing Record 8 of Set 1 | port elizabeth\n",
      "Processing Record 9 of Set 1 | tuktoyaktuk\n",
      "Processing Record 10 of Set 1 | avarua\n",
      "Processing Record 11 of Set 1 | nemuro\n",
      "Processing Record 12 of Set 1 | morgan city\n",
      "Processing Record 13 of Set 1 | hobart\n",
      "Processing Record 14 of Set 1 | kawalu\n",
      "Processing Record 15 of Set 1 | hami\n",
      "Processing Record 16 of Set 1 | ushuaia\n",
      "Processing Record 17 of Set 1 | katsuura\n",
      "Processing Record 18 of Set 1 | hjallerup\n",
      "Processing Record 19 of Set 1 | punta arenas\n",
      "Processing Record 20 of Set 1 | bengkulu\n",
      "Processing Record 21 of Set 1 | victoria\n",
      "Processing Record 22 of Set 1 | rangapara\n",
      "Processing Record 23 of Set 1 | hithadhoo\n",
      "Processing Record 24 of Set 1 | khatanga\n",
      "Processing Record 25 of Set 1 | saint-philippe\n",
      "Processing Record 26 of Set 1 | rikitea\n",
      "Processing Record 27 of Set 1 | ust-kamchatsk\n",
      "City not found. Skipping...\n",
      "Processing Record 28 of Set 1 | kota bahru\n",
      "Processing Record 29 of Set 1 | rocha\n",
      "Processing Record 30 of Set 1 | lebu\n",
      "Processing Record 31 of Set 1 | umm lajj\n",
      "Processing Record 32 of Set 1 | zvenyhorodka\n",
      "Processing Record 33 of Set 1 | mataura\n",
      "Processing Record 34 of Set 1 | albany\n",
      "Processing Record 35 of Set 1 | illoqqortoormiut\n",
      "City not found. Skipping...\n",
      "Processing Record 36 of Set 1 | east london\n",
      "Processing Record 37 of Set 1 | hermanus\n",
      "Processing Record 38 of Set 1 | bluff\n",
      "Processing Record 39 of Set 1 | ayan\n",
      "Processing Record 40 of Set 1 | cherskiy\n",
      "Processing Record 41 of Set 1 | mount isa\n",
      "Processing Record 42 of Set 1 | beringovskiy\n",
      "Processing Record 43 of Set 1 | shu\n",
      "Processing Record 44 of Set 1 | severo-kurilsk\n",
      "Processing Record 45 of Set 1 | busselton\n",
      "Processing Record 46 of Set 1 | tasiilaq\n",
      "Processing Record 47 of Set 1 | tarudant\n",
      "City not found. Skipping...\n",
      "Processing Record 48 of Set 1 | qaanaaq\n",
      "Processing Record 49 of Set 1 | bandarbeyla\n",
      "Processing Record 50 of Set 1 | isla vista\n",
      "Processing Record 0 of Set 2 | arroyo\n",
      "Processing Record 1 of Set 2 | grand river south east\n",
      "City not found. Skipping...\n",
      "Processing Record 2 of Set 2 | tura\n",
      "Processing Record 3 of Set 2 | nizhneyansk\n",
      "City not found. Skipping...\n",
      "Processing Record 4 of Set 2 | caimito\n",
      "Processing Record 5 of Set 2 | amalapuram\n",
      "Processing Record 6 of Set 2 | moree\n",
      "Processing Record 7 of Set 2 | chuy\n",
      "Processing Record 8 of Set 2 | san patricio\n",
      "Processing Record 9 of Set 2 | kiunga\n",
      "Processing Record 10 of Set 2 | antalaha\n",
      "Processing Record 11 of Set 2 | vaitupu\n",
      "City not found. Skipping...\n",
      "Processing Record 12 of Set 2 | barentsburg\n",
      "City not found. Skipping...\n",
      "Processing Record 13 of Set 2 | tsihombe\n",
      "City not found. Skipping...\n",
      "Processing Record 14 of Set 2 | eureka\n",
      "Processing Record 15 of Set 2 | ust-maya\n",
      "Processing Record 16 of Set 2 | barraute\n",
      "Processing Record 17 of Set 2 | castro\n",
      "Processing Record 18 of Set 2 | saint george\n",
      "Processing Record 19 of Set 2 | marcona\n",
      "City not found. Skipping...\n",
      "Processing Record 20 of Set 2 | farafangana\n",
      "Processing Record 21 of Set 2 | mporokoso\n",
      "Processing Record 22 of Set 2 | leningradskiy\n",
      "Processing Record 23 of Set 2 | hamilton\n",
      "Processing Record 24 of Set 2 | yumen\n",
      "Processing Record 25 of Set 2 | vao\n",
      "Processing Record 26 of Set 2 | saldanha\n",
      "Processing Record 27 of Set 2 | bolungarvik\n",
      "City not found. Skipping...\n",
      "Processing Record 28 of Set 2 | shenzhen\n",
      "Processing Record 29 of Set 2 | dingle\n",
      "Processing Record 30 of Set 2 | labuhan\n",
      "Processing Record 31 of Set 2 | isangel\n",
      "Processing Record 32 of Set 2 | salalah\n",
      "Processing Record 33 of Set 2 | zhangjiakou\n",
      "Processing Record 34 of Set 2 | olga\n",
      "Processing Record 35 of Set 2 | luganville\n",
      "Processing Record 36 of Set 2 | jinchang\n",
      "Processing Record 37 of Set 2 | lagoa\n",
      "Processing Record 38 of Set 2 | strezhevoy\n",
      "Processing Record 39 of Set 2 | bauchi\n",
      "Processing Record 40 of Set 2 | shimoda\n",
      "Processing Record 41 of Set 2 | kieta\n",
      "Processing Record 42 of Set 2 | tidore\n",
      "City not found. Skipping...\n",
      "Processing Record 43 of Set 2 | poum\n",
      "Processing Record 44 of Set 2 | san cristobal\n",
      "Processing Record 45 of Set 2 | vaini\n",
      "Processing Record 46 of Set 2 | pisco\n",
      "Processing Record 47 of Set 2 | kruisfontein\n",
      "Processing Record 48 of Set 2 | conde\n",
      "Processing Record 49 of Set 2 | sal rei\n",
      "Processing Record 0 of Set 3 | dikson\n",
      "Processing Record 1 of Set 3 | sentyabrskiy\n",
      "City not found. Skipping...\n",
      "Processing Record 2 of Set 3 | kapaa\n",
      "Processing Record 3 of Set 3 | samarinda\n",
      "Processing Record 4 of Set 3 | mwinilunga\n",
      "Processing Record 5 of Set 3 | chernyshkovskiy\n",
      "Processing Record 6 of Set 3 | takapau\n",
      "Processing Record 7 of Set 3 | hilo\n",
      "Processing Record 8 of Set 3 | kysyl-syr\n",
      "Processing Record 9 of Set 3 | butembo\n",
      "Processing Record 10 of Set 3 | narsaq\n",
      "Processing Record 11 of Set 3 | sao filipe\n",
      "Processing Record 12 of Set 3 | mahebourg\n",
      "Processing Record 13 of Set 3 | oktyabrskiy\n",
      "Processing Record 14 of Set 3 | malanje\n",
      "Processing Record 15 of Set 3 | topolog\n",
      "Processing Record 16 of Set 3 | bogorodskoye\n",
      "Processing Record 17 of Set 3 | thompson\n",
      "Processing Record 18 of Set 3 | georgetown\n",
      "Processing Record 19 of Set 3 | barrow\n",
      "Processing Record 20 of Set 3 | saint-paul\n",
      "Processing Record 21 of Set 3 | vanavara\n",
      "Processing Record 22 of Set 3 | mitsamiouli\n",
      "Processing Record 23 of Set 3 | mar del plata\n",
      "Processing Record 24 of Set 3 | port alfred\n",
      "Processing Record 25 of Set 3 | port lincoln\n",
      "Processing Record 26 of Set 3 | yuzhno-kurilsk\n",
      "Processing Record 27 of Set 3 | bethel\n",
      "Processing Record 28 of Set 3 | bredasdorp\n",
      "Processing Record 29 of Set 3 | pevek\n",
      "Processing Record 30 of Set 3 | yellowknife\n",
      "Processing Record 31 of Set 3 | flin flon\n",
      "Processing Record 32 of Set 3 | nikolskoye\n",
      "Processing Record 33 of Set 3 | buraydah\n",
      "Processing Record 34 of Set 3 | dauphin\n",
      "Processing Record 35 of Set 3 | estelle\n",
      "Processing Record 36 of Set 3 | shonguy\n",
      "Processing Record 37 of Set 3 | berlevag\n",
      "Processing Record 38 of Set 3 | boyuibe\n",
      "Processing Record 39 of Set 3 | airai\n",
      "Processing Record 40 of Set 3 | bambous virieux\n",
      "Processing Record 41 of Set 3 | kamenskoye\n",
      "City not found. Skipping...\n",
      "Processing Record 42 of Set 3 | ikalamavony\n",
      "Processing Record 43 of Set 3 | sur\n",
      "Processing Record 44 of Set 3 | arraial do cabo\n",
      "Processing Record 45 of Set 3 | coihueco\n",
      "Processing Record 46 of Set 3 | bubaque\n",
      "Processing Record 47 of Set 3 | codrington\n",
      "Processing Record 48 of Set 3 | new norfolk\n",
      "Processing Record 49 of Set 3 | laguna\n",
      "Processing Record 0 of Set 4 | port keats\n",
      "Processing Record 1 of Set 4 | cannington\n",
      "Processing Record 2 of Set 4 | hambantota\n",
      "Processing Record 3 of Set 4 | sorland\n",
      "Processing Record 4 of Set 4 | trelew\n",
      "Processing Record 5 of Set 4 | kumbhraj\n",
      "Processing Record 6 of Set 4 | san blas\n",
      "Processing Record 7 of Set 4 | haibowan\n",
      "City not found. Skipping...\n",
      "Processing Record 8 of Set 4 | buala\n",
      "Processing Record 9 of Set 4 | ocos\n",
      "Processing Record 10 of Set 4 | vestmannaeyjar\n",
      "Processing Record 11 of Set 4 | ponta do sol\n",
      "Processing Record 12 of Set 4 | taolanaro\n",
      "City not found. Skipping...\n",
      "Processing Record 13 of Set 4 | kalaleh\n",
      "Processing Record 14 of Set 4 | tornio\n",
      "Processing Record 15 of Set 4 | bar harbor\n",
      "Processing Record 16 of Set 4 | jiangyou\n",
      "Processing Record 17 of Set 4 | xingyi\n",
      "Processing Record 18 of Set 4 | ribeira grande\n",
      "Processing Record 19 of Set 4 | misratah\n",
      "Processing Record 20 of Set 4 | haines junction\n",
      "Processing Record 21 of Set 4 | petropavlovsk-kamchatskiy\n",
      "Processing Record 22 of Set 4 | cabo san lucas\n",
      "Processing Record 23 of Set 4 | elizabeth city\n",
      "Processing Record 24 of Set 4 | baiyin\n",
      "Processing Record 25 of Set 4 | matara\n",
      "Processing Record 26 of Set 4 | ambilobe\n",
      "Processing Record 27 of Set 4 | yelizovo\n",
      "Processing Record 28 of Set 4 | messina\n",
      "Processing Record 29 of Set 4 | bajo baudo\n",
      "City not found. Skipping...\n",
      "Processing Record 30 of Set 4 | puerto ayora\n",
      "Processing Record 31 of Set 4 | malindi\n",
      "Processing Record 32 of Set 4 | plettenberg bay\n",
      "Processing Record 33 of Set 4 | lorengau\n",
      "Processing Record 34 of Set 4 | hay river\n",
      "Processing Record 35 of Set 4 | kodiak\n"
     ]
    },
    {
     "name": "stdout",
     "output_type": "stream",
     "text": [
      "Processing Record 36 of Set 4 | chimbote\n",
      "Processing Record 37 of Set 4 | kanor\n",
      "Processing Record 38 of Set 4 | san pedro de uraba\n",
      "Processing Record 39 of Set 4 | taphan hin\n",
      "Processing Record 40 of Set 4 | upernavik\n",
      "Processing Record 41 of Set 4 | matagami\n",
      "Processing Record 42 of Set 4 | terme\n",
      "Processing Record 43 of Set 4 | coria\n",
      "Processing Record 44 of Set 4 | pallasovka\n",
      "Processing Record 45 of Set 4 | asyut\n",
      "Processing Record 46 of Set 4 | cockburn town\n",
      "Processing Record 47 of Set 4 | osypenko\n",
      "Processing Record 48 of Set 4 | sioux lookout\n",
      "Processing Record 49 of Set 4 | gotsu\n",
      "Processing Record 0 of Set 5 | abadan\n",
      "Processing Record 1 of Set 5 | lewistown\n",
      "Processing Record 2 of Set 5 | toftir\n",
      "City not found. Skipping...\n",
      "Processing Record 3 of Set 5 | fortuna\n",
      "Processing Record 4 of Set 5 | ostersund\n",
      "Processing Record 5 of Set 5 | calafell\n",
      "Processing Record 6 of Set 5 | panguna\n",
      "Processing Record 7 of Set 5 | nantucket\n",
      "Processing Record 8 of Set 5 | la ronge\n",
      "Processing Record 9 of Set 5 | harper\n",
      "Processing Record 10 of Set 5 | monte azul\n",
      "Processing Record 11 of Set 5 | binga\n",
      "Processing Record 12 of Set 5 | saskylakh\n",
      "Processing Record 13 of Set 5 | ushirombo\n",
      "Processing Record 14 of Set 5 | guerrero negro\n",
      "Processing Record 15 of Set 5 | sobradinho\n",
      "Processing Record 16 of Set 5 | saint-leu\n",
      "Processing Record 17 of Set 5 | rabo de peixe\n",
      "Processing Record 18 of Set 5 | cabedelo\n",
      "Processing Record 19 of Set 5 | esperance\n",
      "Processing Record 20 of Set 5 | grand gaube\n",
      "Processing Record 21 of Set 5 | kirakira\n",
      "Processing Record 22 of Set 5 | we\n",
      "City not found. Skipping...\n",
      "Processing Record 23 of Set 5 | vardo\n",
      "Processing Record 24 of Set 5 | mosetse\n",
      "Processing Record 25 of Set 5 | storforshei\n",
      "Processing Record 26 of Set 5 | nuuk\n",
      "Processing Record 27 of Set 5 | iqaluit\n",
      "Processing Record 28 of Set 5 | samusu\n",
      "City not found. Skipping...\n",
      "Processing Record 29 of Set 5 | lang suan\n",
      "Processing Record 30 of Set 5 | carnarvon\n",
      "Processing Record 31 of Set 5 | atuona\n",
      "Processing Record 32 of Set 5 | tiksi\n",
      "Processing Record 33 of Set 5 | kasempa\n",
      "Processing Record 34 of Set 5 | maldonado\n",
      "Processing Record 35 of Set 5 | ostrovnoy\n",
      "Processing Record 36 of Set 5 | amderma\n",
      "City not found. Skipping...\n",
      "Processing Record 37 of Set 5 | tacarigua\n",
      "Processing Record 38 of Set 5 | kahului\n",
      "Processing Record 39 of Set 5 | ilulissat\n",
      "Processing Record 40 of Set 5 | sitka\n",
      "Processing Record 41 of Set 5 | maryborough\n",
      "Processing Record 42 of Set 5 | belmonte\n",
      "Processing Record 43 of Set 5 | nalut\n",
      "Processing Record 44 of Set 5 | ginda\n",
      "Processing Record 45 of Set 5 | iquique\n",
      "Processing Record 46 of Set 5 | boa vista\n",
      "Processing Record 47 of Set 5 | hofn\n",
      "Processing Record 48 of Set 5 | fowa\n",
      "Processing Record 49 of Set 5 | coquimbo\n",
      "Processing Record 0 of Set 6 | rio gallegos\n",
      "Processing Record 1 of Set 6 | saint-pierre\n",
      "Processing Record 2 of Set 6 | hargeysa\n",
      "Processing Record 3 of Set 6 | ormara\n",
      "Processing Record 4 of Set 6 | husavik\n",
      "Processing Record 5 of Set 6 | nosy varika\n",
      "Processing Record 6 of Set 6 | lanzhou\n",
      "Processing Record 7 of Set 6 | umm kaddadah\n",
      "Processing Record 8 of Set 6 | muyezerskiy\n",
      "Processing Record 9 of Set 6 | boyolangu\n",
      "Processing Record 10 of Set 6 | tuatapere\n",
      "Processing Record 11 of Set 6 | yamada\n",
      "Processing Record 12 of Set 6 | makokou\n",
      "Processing Record 13 of Set 6 | ust-kuyga\n",
      "Processing Record 14 of Set 6 | teahupoo\n",
      "Processing Record 15 of Set 6 | yele\n",
      "Processing Record 16 of Set 6 | moose factory\n",
      "Processing Record 17 of Set 6 | baglung\n",
      "Processing Record 18 of Set 6 | cidreira\n",
      "Processing Record 19 of Set 6 | tairua\n",
      "Processing Record 20 of Set 6 | souillac\n",
      "Processing Record 21 of Set 6 | salta\n",
      "Processing Record 22 of Set 6 | belushya guba\n",
      "City not found. Skipping...\n",
      "Processing Record 23 of Set 6 | vung tau\n",
      "Processing Record 24 of Set 6 | ucluelet\n",
      "Processing Record 25 of Set 6 | aksarka\n",
      "Processing Record 26 of Set 6 | fairbanks\n",
      "Processing Record 27 of Set 6 | bonavista\n",
      "Processing Record 28 of Set 6 | kayerkan\n",
      "Processing Record 29 of Set 6 | chute-aux-outardes\n",
      "Processing Record 30 of Set 6 | leh\n",
      "Processing Record 31 of Set 6 | celestun\n",
      "Processing Record 32 of Set 6 | anderson\n",
      "Processing Record 33 of Set 6 | maldaeni\n",
      "Processing Record 34 of Set 6 | umzimvubu\n",
      "City not found. Skipping...\n",
      "Processing Record 35 of Set 6 | kaitong\n",
      "Processing Record 36 of Set 6 | kondopoga\n",
      "Processing Record 37 of Set 6 | tumannyy\n",
      "City not found. Skipping...\n",
      "Processing Record 38 of Set 6 | singkang\n",
      "Processing Record 39 of Set 6 | kyra\n",
      "Processing Record 40 of Set 6 | torbay\n",
      "Processing Record 41 of Set 6 | margate\n",
      "Processing Record 42 of Set 6 | faanui\n",
      "Processing Record 43 of Set 6 | hasaki\n",
      "Processing Record 44 of Set 6 | altay\n",
      "Processing Record 45 of Set 6 | akureyri\n",
      "Processing Record 46 of Set 6 | kurumkan\n",
      "Processing Record 47 of Set 6 | miracema do tocantins\n",
      "Processing Record 48 of Set 6 | ugoofaaru\n",
      "Processing Record 49 of Set 6 | ahipara\n",
      "Processing Record 0 of Set 7 | sorkjosen\n",
      "Processing Record 1 of Set 7 | talnakh\n",
      "Processing Record 2 of Set 7 | milkovo\n",
      "Processing Record 3 of Set 7 | vanimo\n",
      "Processing Record 4 of Set 7 | majene\n",
      "Processing Record 5 of Set 7 | alta floresta\n",
      "Processing Record 6 of Set 7 | kuche\n",
      "City not found. Skipping...\n",
      "Processing Record 7 of Set 7 | bluffton\n",
      "Processing Record 8 of Set 7 | lima\n",
      "Processing Record 9 of Set 7 | adrar\n",
      "Processing Record 10 of Set 7 | katangli\n",
      "Processing Record 11 of Set 7 | fort nelson\n",
      "Processing Record 12 of Set 7 | qinggang\n",
      "Processing Record 13 of Set 7 | aklavik\n",
      "Processing Record 14 of Set 7 | paracuru\n",
      "Processing Record 15 of Set 7 | bathsheba\n",
      "Processing Record 16 of Set 7 | pacifica\n",
      "Processing Record 17 of Set 7 | sept-iles\n",
      "Processing Record 18 of Set 7 | bereda\n",
      "Processing Record 19 of Set 7 | ancud\n",
      "Processing Record 20 of Set 7 | padang\n",
      "Processing Record 21 of Set 7 | honningsvag\n",
      "Processing Record 22 of Set 7 | pilar do sul\n",
      "Processing Record 23 of Set 7 | merauke\n",
      "Processing Record 24 of Set 7 | phonhong\n",
      "Processing Record 25 of Set 7 | zhuhai\n",
      "Processing Record 26 of Set 7 | havre-saint-pierre\n",
      "Processing Record 27 of Set 7 | san quintin\n",
      "Processing Record 28 of Set 7 | neiafu\n",
      "Processing Record 29 of Set 7 | labutta\n",
      "City not found. Skipping...\n",
      "Processing Record 30 of Set 7 | karaul\n",
      "City not found. Skipping...\n",
      "Processing Record 31 of Set 7 | weligama\n",
      "Processing Record 32 of Set 7 | gat\n",
      "Processing Record 33 of Set 7 | loiza\n",
      "Processing Record 34 of Set 7 | pacific grove\n",
      "Processing Record 35 of Set 7 | gawler\n",
      "Processing Record 36 of Set 7 | mount gambier\n",
      "Processing Record 37 of Set 7 | college\n",
      "Processing Record 38 of Set 7 | tomatlan\n",
      "Processing Record 39 of Set 7 | utiroa\n",
      "City not found. Skipping...\n",
      "Processing Record 40 of Set 7 | vostok\n",
      "Processing Record 41 of Set 7 | talaya\n",
      "Processing Record 42 of Set 7 | somanda\n",
      "Processing Record 43 of Set 7 | longyearbyen\n",
      "Processing Record 44 of Set 7 | zhigansk\n",
      "Processing Record 45 of Set 7 | thinadhoo\n",
      "Processing Record 46 of Set 7 | aripuana\n",
      "Processing Record 47 of Set 7 | brownsville\n",
      "Processing Record 48 of Set 7 | yenagoa\n",
      "Processing Record 49 of Set 7 | okhotsk\n",
      "Processing Record 0 of Set 8 | astara\n",
      "Processing Record 1 of Set 8 | lac-megantic\n",
      "Processing Record 2 of Set 8 | mutare\n",
      "Processing Record 3 of Set 8 | asau\n",
      "Processing Record 4 of Set 8 | acarau\n",
      "Processing Record 5 of Set 8 | praia\n",
      "Processing Record 6 of Set 8 | artyk\n",
      "City not found. Skipping...\n",
      "Processing Record 7 of Set 8 | balabac\n",
      "Processing Record 8 of Set 8 | porto novo\n",
      "Processing Record 9 of Set 8 | los llanos de aridane\n",
      "Processing Record 10 of Set 8 | shelburne\n",
      "Processing Record 11 of Set 8 | coihaique\n",
      "Processing Record 12 of Set 8 | montepuez\n",
      "Processing Record 13 of Set 8 | batagay\n",
      "Processing Record 14 of Set 8 | geraldton\n",
      "Processing Record 15 of Set 8 | port-cartier\n",
      "Processing Record 16 of Set 8 | tsumeb\n",
      "Processing Record 17 of Set 8 | meulaboh\n",
      "Processing Record 18 of Set 8 | korla\n",
      "Processing Record 19 of Set 8 | chapais\n",
      "Processing Record 20 of Set 8 | bozeman\n",
      "Processing Record 21 of Set 8 | muli\n",
      "Processing Record 22 of Set 8 | yar-sale\n",
      "Processing Record 23 of Set 8 | northam\n",
      "Processing Record 24 of Set 8 | barawe\n",
      "City not found. Skipping...\n",
      "Processing Record 25 of Set 8 | hervey bay\n",
      "Processing Record 26 of Set 8 | uchiza\n",
      "Processing Record 27 of Set 8 | mys shmidta\n"
     ]
    },
    {
     "name": "stdout",
     "output_type": "stream",
     "text": [
      "City not found. Skipping...\n",
      "Processing Record 28 of Set 8 | porto walter\n",
      "Processing Record 29 of Set 8 | horsham\n",
      "Processing Record 30 of Set 8 | maraa\n",
      "Processing Record 31 of Set 8 | vila franca do campo\n",
      "Processing Record 32 of Set 8 | garoua\n",
      "Processing Record 33 of Set 8 | kampot\n",
      "Processing Record 34 of Set 8 | marawi\n",
      "Processing Record 35 of Set 8 | egvekinot\n",
      "Processing Record 36 of Set 8 | liverpool\n",
      "Processing Record 37 of Set 8 | sanandaj\n",
      "Processing Record 38 of Set 8 | tabou\n",
      "Processing Record 39 of Set 8 | kavieng\n",
      "Processing Record 40 of Set 8 | cap malheureux\n",
      "Processing Record 41 of Set 8 | logan\n",
      "Processing Record 42 of Set 8 | klaksvik\n",
      "Processing Record 43 of Set 8 | sisimiut\n",
      "Processing Record 44 of Set 8 | whyalla\n",
      "Processing Record 45 of Set 8 | attawapiskat\n",
      "City not found. Skipping...\n",
      "Processing Record 46 of Set 8 | hailar\n",
      "Processing Record 47 of Set 8 | ajdabiya\n",
      "Processing Record 48 of Set 8 | saint-georges\n",
      "Processing Record 49 of Set 8 | hoopstad\n",
      "Processing Record 0 of Set 9 | emerald\n",
      "Processing Record 1 of Set 9 | flinders\n",
      "Processing Record 2 of Set 9 | fare\n",
      "Processing Record 3 of Set 9 | carballo\n",
      "Processing Record 4 of Set 9 | tan an\n",
      "Processing Record 5 of Set 9 | allapalli\n",
      "Processing Record 6 of Set 9 | santa maria\n",
      "Processing Record 7 of Set 9 | sesheke\n",
      "Processing Record 8 of Set 9 | tecoanapa\n",
      "Processing Record 9 of Set 9 | gaspe\n",
      "Processing Record 10 of Set 9 | carutapera\n",
      "Processing Record 11 of Set 9 | toba\n",
      "Processing Record 12 of Set 9 | neu wulmstorf\n",
      "Processing Record 13 of Set 9 | wakkanai\n",
      "Processing Record 14 of Set 9 | pierre\n",
      "Processing Record 15 of Set 9 | rungata\n",
      "City not found. Skipping...\n",
      "Processing Record 16 of Set 9 | arica\n",
      "Processing Record 17 of Set 9 | nsoko\n",
      "Processing Record 18 of Set 9 | krasnoarmeysk\n",
      "Processing Record 19 of Set 9 | juneau\n",
      "Processing Record 20 of Set 9 | chateauroux\n",
      "Processing Record 21 of Set 9 | kloulklubed\n",
      "Processing Record 22 of Set 9 | jiaozuo\n",
      "Processing Record 23 of Set 9 | tuburan\n",
      "Processing Record 24 of Set 9 | teknaf\n",
      "Processing Record 25 of Set 9 | makakilo city\n",
      "Processing Record 26 of Set 9 | sanski most\n",
      "Processing Record 27 of Set 9 | kaitangata\n",
      "Processing Record 28 of Set 9 | hengyang\n",
      "Processing Record 29 of Set 9 | talcahuano\n",
      "Processing Record 30 of Set 9 | arawa\n",
      "Processing Record 31 of Set 9 | mercedes\n",
      "Processing Record 32 of Set 9 | chengde\n",
      "Processing Record 33 of Set 9 | stokmarknes\n",
      "Processing Record 34 of Set 9 | kalpi\n",
      "Processing Record 35 of Set 9 | valdosta\n",
      "Processing Record 36 of Set 9 | chiampo\n",
      "Processing Record 37 of Set 9 | marsa matruh\n",
      "Processing Record 38 of Set 9 | nome\n",
      "Processing Record 39 of Set 9 | careva cuprija\n",
      "Processing Record 40 of Set 9 | port macquarie\n",
      "Processing Record 41 of Set 9 | lokosovo\n",
      "Processing Record 42 of Set 9 | rawson\n",
      "Processing Record 43 of Set 9 | skelleftea\n",
      "Processing Record 44 of Set 9 | nakasongola\n",
      "Processing Record 45 of Set 9 | lompoc\n",
      "Processing Record 46 of Set 9 | nizwa\n",
      "Processing Record 47 of Set 9 | sabang\n",
      "Processing Record 48 of Set 9 | noumea\n",
      "Processing Record 49 of Set 9 | ruteng\n",
      "Processing Record 0 of Set 10 | deputatskiy\n",
      "Processing Record 1 of Set 10 | sola\n",
      "Processing Record 2 of Set 10 | nikolayevka\n",
      "Processing Record 3 of Set 10 | tabas\n",
      "Processing Record 4 of Set 10 | qianan\n",
      "Processing Record 5 of Set 10 | vila velha\n",
      "Processing Record 6 of Set 10 | isperih\n",
      "Processing Record 7 of Set 10 | hamina\n",
      "Processing Record 8 of Set 10 | turukhansk\n",
      "Processing Record 9 of Set 10 | dodge city\n",
      "Processing Record 10 of Set 10 | espinosa\n",
      "Processing Record 11 of Set 10 | hayden\n",
      "Processing Record 12 of Set 10 | maniitsoq\n",
      "Processing Record 13 of Set 10 | camacha\n",
      "Processing Record 14 of Set 10 | vikramasingapuram\n",
      "Processing Record 15 of Set 10 | nanortalik\n",
      "Processing Record 16 of Set 10 | asmar\n",
      "Processing Record 17 of Set 10 | shingu\n",
      "Processing Record 18 of Set 10 | mattru\n",
      "Processing Record 19 of Set 10 | belgaum\n",
      "Processing Record 20 of Set 10 | taoudenni\n",
      "Processing Record 21 of Set 10 | lata\n",
      "Processing Record 22 of Set 10 | sao felix do xingu\n",
      "Processing Record 23 of Set 10 | rayachoti\n",
      "Processing Record 24 of Set 10 | sakakah\n",
      "Processing Record 25 of Set 10 | chokurdakh\n",
      "Processing Record 26 of Set 10 | konibodom\n",
      "Processing Record 27 of Set 10 | mabaruma\n",
      "Processing Record 28 of Set 10 | eyl\n",
      "Processing Record 29 of Set 10 | astoria\n",
      "Processing Record 30 of Set 10 | samarai\n",
      "Processing Record 31 of Set 10 | derzhavinsk\n",
      "Processing Record 32 of Set 10 | high level\n",
      "Processing Record 33 of Set 10 | opuwo\n",
      "Processing Record 34 of Set 10 | salinopolis\n",
      "Processing Record 35 of Set 10 | waipawa\n",
      "Processing Record 36 of Set 10 | aksu\n",
      "Processing Record 37 of Set 10 | saint paul\n",
      "Processing Record 38 of Set 10 | anadyr\n",
      "Processing Record 39 of Set 10 | inhambane\n",
      "Processing Record 40 of Set 10 | sakaiminato\n",
      "Processing Record 41 of Set 10 | santa cruz\n",
      "Processing Record 42 of Set 10 | russkaya polyana\n",
      "Processing Record 43 of Set 10 | beipiao\n",
      "Processing Record 44 of Set 10 | srednekolymsk\n",
      "Processing Record 45 of Set 10 | tripoli\n",
      "Processing Record 46 of Set 10 | swift current\n",
      "Processing Record 47 of Set 10 | quatre cocos\n",
      "Processing Record 48 of Set 10 | corbelia\n",
      "Processing Record 49 of Set 10 | roma\n",
      "Processing Record 0 of Set 11 | north bend\n",
      "Processing Record 1 of Set 11 | kiama\n",
      "Processing Record 2 of Set 11 | muroto\n",
      "Processing Record 3 of Set 11 | smidovich\n",
      "Processing Record 4 of Set 11 | conceicao do araguaia\n",
      "Processing Record 5 of Set 11 | ponta pora\n",
      "Processing Record 6 of Set 11 | bogatoye\n",
      "Processing Record 7 of Set 11 | muravlenko\n",
      "Processing Record 8 of Set 11 | avera\n",
      "Processing Record 9 of Set 11 | qiongshan\n",
      "Processing Record 10 of Set 11 | saint-augustin\n",
      "Processing Record 11 of Set 11 | yilan\n",
      "Processing Record 12 of Set 11 | port blair\n",
      "Processing Record 13 of Set 11 | shakawe\n",
      "Processing Record 14 of Set 11 | alghero\n",
      "Processing Record 15 of Set 11 | bud\n",
      "Processing Record 16 of Set 11 | kazalinsk\n",
      "City not found. Skipping...\n",
      "Processing Record 17 of Set 11 | karkaralinsk\n",
      "City not found. Skipping...\n",
      "Processing Record 18 of Set 11 | nouadhibou\n",
      "Processing Record 19 of Set 11 | palabuhanratu\n",
      "City not found. Skipping...\n",
      "Processing Record 20 of Set 11 | florianopolis\n",
      "Processing Record 21 of Set 11 | linjiang\n",
      "Processing Record 22 of Set 11 | krasnoselkup\n",
      "Processing Record 23 of Set 11 | maloy\n",
      "Processing Record 24 of Set 11 | itoman\n",
      "Processing Record 25 of Set 11 | aykhal\n",
      "Processing Record 26 of Set 11 | kalmeshwar\n",
      "Processing Record 27 of Set 11 | baracoa\n",
      "Processing Record 28 of Set 11 | gairo\n",
      "Processing Record 29 of Set 11 | seymchan\n",
      "Processing Record 30 of Set 11 | klaebu\n",
      "Processing Record 31 of Set 11 | beira\n",
      "Processing Record 32 of Set 11 | lebanon\n",
      "Processing Record 33 of Set 11 | cayenne\n",
      "Processing Record 34 of Set 11 | viedma\n",
      "Processing Record 35 of Set 11 | massape\n",
      "Processing Record 36 of Set 11 | arlit\n",
      "Processing Record 37 of Set 11 | soe\n",
      "Processing Record 38 of Set 11 | kempsey\n",
      "Processing Record 39 of Set 11 | saint-jean-port-joli\n",
      "Processing Record 40 of Set 11 | coahuayana\n",
      "Processing Record 41 of Set 11 | sao jose da coroa grande\n",
      "Processing Record 42 of Set 11 | kutum\n",
      "Processing Record 43 of Set 11 | las cruces\n",
      "Processing Record 44 of Set 11 | manta\n",
      "Processing Record 45 of Set 11 | mayumba\n",
      "Processing Record 46 of Set 11 | union\n",
      "Processing Record 47 of Set 11 | brae\n",
      "Processing Record 48 of Set 11 | otane\n",
      "Processing Record 49 of Set 11 | rio muerto\n",
      "Processing Record 0 of Set 12 | polunochnoye\n",
      "Processing Record 1 of Set 12 | artigas\n",
      "Processing Record 2 of Set 12 | lalibela\n",
      "Processing Record 3 of Set 12 | castelo branco\n",
      "Processing Record 4 of Set 12 | moron\n",
      "Processing Record 5 of Set 12 | naze\n",
      "Processing Record 6 of Set 12 | natal\n",
      "Processing Record 7 of Set 12 | ijaki\n",
      "City not found. Skipping...\n",
      "Processing Record 8 of Set 12 | walvis bay\n",
      "Processing Record 9 of Set 12 | tarbagatay\n",
      "Processing Record 10 of Set 12 | kamenka\n",
      "Processing Record 11 of Set 12 | qaqortoq\n",
      "Processing Record 12 of Set 12 | gorno-chuyskiy\n",
      "City not found. Skipping...\n",
      "Processing Record 13 of Set 12 | karratha\n",
      "Processing Record 14 of Set 12 | paita\n",
      "Processing Record 15 of Set 12 | aflu\n",
      "City not found. Skipping...\n",
      "Processing Record 16 of Set 12 | kaohsiung\n",
      "Processing Record 17 of Set 12 | shache\n",
      "Processing Record 18 of Set 12 | divnoye\n"
     ]
    },
    {
     "name": "stdout",
     "output_type": "stream",
     "text": [
      "Processing Record 19 of Set 12 | barra dos coqueiros\n",
      "Processing Record 20 of Set 12 | provideniya\n",
      "Processing Record 21 of Set 12 | norman wells\n",
      "Processing Record 22 of Set 12 | yuzhno-yeniseyskiy\n",
      "City not found. Skipping...\n",
      "Processing Record 23 of Set 12 | follonica\n",
      "Processing Record 24 of Set 12 | verkhoyansk\n",
      "Processing Record 25 of Set 12 | henties bay\n",
      "Processing Record 26 of Set 12 | kudahuvadhoo\n",
      "Processing Record 27 of Set 12 | bandundu\n",
      "Processing Record 28 of Set 12 | cascais\n",
      "Processing Record 29 of Set 12 | dickinson\n",
      "Processing Record 30 of Set 12 | san benito\n",
      "Processing Record 31 of Set 12 | kenai\n",
      "Processing Record 32 of Set 12 | rio pardo de minas\n",
      "Processing Record 33 of Set 12 | erzin\n",
      "Processing Record 34 of Set 12 | san carlos del zulia\n",
      "Processing Record 35 of Set 12 | kyshtovka\n",
      "Processing Record 36 of Set 12 | zima\n",
      "Processing Record 37 of Set 12 | khandbari\n",
      "Processing Record 38 of Set 12 | salyan\n",
      "Processing Record 39 of Set 12 | saint-joseph\n",
      "Processing Record 40 of Set 12 | tocopilla\n",
      "Processing Record 41 of Set 12 | ust-nera\n",
      "Processing Record 42 of Set 12 | yangambi\n",
      "Processing Record 43 of Set 12 | lolua\n",
      "City not found. Skipping...\n",
      "Processing Record 44 of Set 12 | shirakamut\n",
      "Processing Record 45 of Set 12 | berezovyy\n",
      "Processing Record 46 of Set 12 | dunedin\n",
      "Processing Record 47 of Set 12 | bonthe\n",
      "Processing Record 48 of Set 12 | sijunjung\n",
      "Processing Record 49 of Set 12 | wulanhaote\n",
      "City not found. Skipping...\n",
      "Processing Record 0 of Set 13 | atar\n",
      "Processing Record 1 of Set 13 | fayaoue\n",
      "Processing Record 2 of Set 13 | san lawrenz\n",
      "Processing Record 3 of Set 13 | lashio\n",
      "Processing Record 4 of Set 13 | shenjiamen\n",
      "Processing Record 5 of Set 13 | longonjo\n",
      "Processing Record 6 of Set 13 | erenhot\n",
      "Processing Record 7 of Set 13 | prior lake\n",
      "Processing Record 8 of Set 13 | sao gabriel da cachoeira\n",
      "Processing Record 9 of Set 13 | billings\n",
      "Processing Record 10 of Set 13 | kalmunai\n",
      "Processing Record 11 of Set 13 | meadow lake\n",
      "Processing Record 12 of Set 13 | littleton\n",
      "Processing Record 13 of Set 13 | soloneshnoye\n",
      "Processing Record 14 of Set 13 | pravia\n",
      "Processing Record 15 of Set 13 | portland\n",
      "Processing Record 16 of Set 13 | singleton\n",
      "Processing Record 17 of Set 13 | karasjok\n",
      "Processing Record 18 of Set 13 | yaan\n",
      "Processing Record 19 of Set 13 | palauig\n",
      "Processing Record 20 of Set 13 | pochutla\n",
      "Processing Record 21 of Set 13 | obluche\n",
      "City not found. Skipping...\n",
      "Processing Record 22 of Set 13 | macusani\n",
      "Processing Record 23 of Set 13 | kaffrine\n",
      "Processing Record 24 of Set 13 | diamantina\n",
      "Processing Record 25 of Set 13 | saleaula\n",
      "City not found. Skipping...\n",
      "Processing Record 26 of Set 13 | middlebury\n",
      "Processing Record 27 of Set 13 | anju\n",
      "Processing Record 28 of Set 13 | la rioja\n",
      "Processing Record 29 of Set 13 | alofi\n",
      "Processing Record 30 of Set 13 | louisbourg\n",
      "City not found. Skipping...\n",
      "Processing Record 31 of Set 13 | palu\n",
      "Processing Record 32 of Set 13 | kuusamo\n",
      "Processing Record 33 of Set 13 | cap-aux-meules\n",
      "Processing Record 34 of Set 13 | palencia\n",
      "Processing Record 35 of Set 13 | maues\n",
      "Processing Record 36 of Set 13 | lososina\n",
      "Processing Record 37 of Set 13 | gorontalo\n",
      "Processing Record 38 of Set 13 | antalya\n",
      "Processing Record 39 of Set 13 | port hueneme\n",
      "Processing Record 40 of Set 13 | puerto colombia\n",
      "Processing Record 41 of Set 13 | sapele\n",
      "Processing Record 42 of Set 13 | bend\n",
      "-----------------------------\n",
      "Data Retrieval Complete      \n",
      "-----------------------------\n"
     ]
    }
   ],
   "source": []
  },
  {
   "cell_type": "markdown",
   "metadata": {},
   "source": [
    "### Convert Raw Data to DataFrame\n",
    "* Export the city data into a .csv.\n",
    "* Display the DataFrame"
   ]
  },
  {
   "cell_type": "code",
   "execution_count": 26,
   "metadata": {},
   "outputs": [
    {
     "data": {
      "text/html": [
       "<div>\n",
       "<style scoped>\n",
       "    .dataframe tbody tr th:only-of-type {\n",
       "        vertical-align: middle;\n",
       "    }\n",
       "\n",
       "    .dataframe tbody tr th {\n",
       "        vertical-align: top;\n",
       "    }\n",
       "\n",
       "    .dataframe thead th {\n",
       "        text-align: right;\n",
       "    }\n",
       "</style>\n",
       "<table border=\"1\" class=\"dataframe\">\n",
       "  <thead>\n",
       "    <tr style=\"text-align: right;\">\n",
       "      <th></th>\n",
       "      <th>City</th>\n",
       "      <th>Latitude</th>\n",
       "      <th>Longitude</th>\n",
       "      <th>Max temp</th>\n",
       "      <th>Humidity</th>\n",
       "      <th>Cloudiness</th>\n",
       "      <th>Wind speed</th>\n",
       "      <th>Country</th>\n",
       "      <th>Date</th>\n",
       "    </tr>\n",
       "  </thead>\n",
       "  <tbody>\n",
       "    <tr>\n",
       "      <th>0</th>\n",
       "      <td>samarai</td>\n",
       "      <td>-10.6167</td>\n",
       "      <td>150.6667</td>\n",
       "      <td>27.42</td>\n",
       "      <td>70</td>\n",
       "      <td>27</td>\n",
       "      <td>2.61</td>\n",
       "      <td>PG</td>\n",
       "      <td>1613246773</td>\n",
       "    </tr>\n",
       "    <tr>\n",
       "      <th>1</th>\n",
       "      <td>bethel</td>\n",
       "      <td>41.3712</td>\n",
       "      <td>-73.4140</td>\n",
       "      <td>-2.00</td>\n",
       "      <td>31</td>\n",
       "      <td>90</td>\n",
       "      <td>2.06</td>\n",
       "      <td>US</td>\n",
       "      <td>1613246633</td>\n",
       "    </tr>\n",
       "    <tr>\n",
       "      <th>2</th>\n",
       "      <td>morro bay</td>\n",
       "      <td>35.3658</td>\n",
       "      <td>-120.8499</td>\n",
       "      <td>15.00</td>\n",
       "      <td>84</td>\n",
       "      <td>97</td>\n",
       "      <td>3.13</td>\n",
       "      <td>US</td>\n",
       "      <td>1613246773</td>\n",
       "    </tr>\n",
       "    <tr>\n",
       "      <th>3</th>\n",
       "      <td>ribeira grande</td>\n",
       "      <td>38.5167</td>\n",
       "      <td>-28.7000</td>\n",
       "      <td>14.00</td>\n",
       "      <td>77</td>\n",
       "      <td>75</td>\n",
       "      <td>10.29</td>\n",
       "      <td>PT</td>\n",
       "      <td>1613246774</td>\n",
       "    </tr>\n",
       "    <tr>\n",
       "      <th>4</th>\n",
       "      <td>esperance</td>\n",
       "      <td>-33.8667</td>\n",
       "      <td>121.9000</td>\n",
       "      <td>15.00</td>\n",
       "      <td>88</td>\n",
       "      <td>16</td>\n",
       "      <td>2.57</td>\n",
       "      <td>AU</td>\n",
       "      <td>1613246577</td>\n",
       "    </tr>\n",
       "  </tbody>\n",
       "</table>\n",
       "</div>"
      ],
      "text/plain": [
       "             City  Latitude  Longitude  Max temp  Humidity  Cloudiness  \\\n",
       "0         samarai  -10.6167   150.6667     27.42        70          27   \n",
       "1          bethel   41.3712   -73.4140     -2.00        31          90   \n",
       "2       morro bay   35.3658  -120.8499     15.00        84          97   \n",
       "3  ribeira grande   38.5167   -28.7000     14.00        77          75   \n",
       "4       esperance  -33.8667   121.9000     15.00        88          16   \n",
       "\n",
       "   Wind speed Country        Date  \n",
       "0        2.61      PG  1613246773  \n",
       "1        2.06      US  1613246633  \n",
       "2        3.13      US  1613246773  \n",
       "3       10.29      PT  1613246774  \n",
       "4        2.57      AU  1613246577  "
      ]
     },
     "metadata": {},
     "output_type": "display_data"
    }
   ],
   "source": [
    "df_cities = pd.DataFrame({'City':city_n, 'Latitude':lat, 'Longitude':lon,\n",
    "                          'Max temp':max_temp, 'Humidity':humidity, 'Cloudiness':cloudiness, \n",
    "                          'Wind speed':w_speed, 'Country':country, 'Date':date})\n",
    "display(df_cities.head())"
   ]
  },
  {
   "cell_type": "markdown",
   "metadata": {},
   "source": [
    "## Inspect the data and remove the cities where the humidity > 100%.\n",
    "----\n",
    "Skip this step if there are no cities that have humidity > 100%. "
   ]
  },
  {
   "cell_type": "code",
   "execution_count": 28,
   "metadata": {},
   "outputs": [
    {
     "data": {
      "text/html": [
       "<div>\n",
       "<style scoped>\n",
       "    .dataframe tbody tr th:only-of-type {\n",
       "        vertical-align: middle;\n",
       "    }\n",
       "\n",
       "    .dataframe tbody tr th {\n",
       "        vertical-align: top;\n",
       "    }\n",
       "\n",
       "    .dataframe thead th {\n",
       "        text-align: right;\n",
       "    }\n",
       "</style>\n",
       "<table border=\"1\" class=\"dataframe\">\n",
       "  <thead>\n",
       "    <tr style=\"text-align: right;\">\n",
       "      <th></th>\n",
       "      <th>Latitude</th>\n",
       "      <th>Longitude</th>\n",
       "      <th>Max temp</th>\n",
       "      <th>Humidity</th>\n",
       "      <th>Cloudiness</th>\n",
       "      <th>Wind speed</th>\n",
       "      <th>Date</th>\n",
       "    </tr>\n",
       "  </thead>\n",
       "  <tbody>\n",
       "    <tr>\n",
       "      <th>count</th>\n",
       "      <td>45.000000</td>\n",
       "      <td>45.000000</td>\n",
       "      <td>45.000000</td>\n",
       "      <td>45.000000</td>\n",
       "      <td>45.000000</td>\n",
       "      <td>45.000000</td>\n",
       "      <td>4.500000e+01</td>\n",
       "    </tr>\n",
       "    <tr>\n",
       "      <th>mean</th>\n",
       "      <td>6.878816</td>\n",
       "      <td>18.636618</td>\n",
       "      <td>12.246889</td>\n",
       "      <td>76.844444</td>\n",
       "      <td>57.644444</td>\n",
       "      <td>3.751778</td>\n",
       "      <td>1.613247e+09</td>\n",
       "    </tr>\n",
       "    <tr>\n",
       "      <th>std</th>\n",
       "      <td>38.293840</td>\n",
       "      <td>108.238657</td>\n",
       "      <td>17.234041</td>\n",
       "      <td>14.088931</td>\n",
       "      <td>40.009178</td>\n",
       "      <td>2.354641</td>\n",
       "      <td>8.914854e+01</td>\n",
       "    </tr>\n",
       "    <tr>\n",
       "      <th>min</th>\n",
       "      <td>-54.800000</td>\n",
       "      <td>-175.200000</td>\n",
       "      <td>-34.940000</td>\n",
       "      <td>30.000000</td>\n",
       "      <td>0.000000</td>\n",
       "      <td>0.240000</td>\n",
       "      <td>1.613246e+09</td>\n",
       "    </tr>\n",
       "    <tr>\n",
       "      <th>25%</th>\n",
       "      <td>-23.120300</td>\n",
       "      <td>-73.414000</td>\n",
       "      <td>4.000000</td>\n",
       "      <td>73.000000</td>\n",
       "      <td>16.000000</td>\n",
       "      <td>2.460000</td>\n",
       "      <td>1.613247e+09</td>\n",
       "    </tr>\n",
       "    <tr>\n",
       "      <th>50%</th>\n",
       "      <td>-2.022600</td>\n",
       "      <td>37.976300</td>\n",
       "      <td>16.110000</td>\n",
       "      <td>79.000000</td>\n",
       "      <td>75.000000</td>\n",
       "      <td>3.590000</td>\n",
       "      <td>1.613247e+09</td>\n",
       "    </tr>\n",
       "    <tr>\n",
       "      <th>75%</th>\n",
       "      <td>41.123100</td>\n",
       "      <td>121.900000</td>\n",
       "      <td>26.050000</td>\n",
       "      <td>87.000000</td>\n",
       "      <td>96.000000</td>\n",
       "      <td>4.970000</td>\n",
       "      <td>1.613247e+09</td>\n",
       "    </tr>\n",
       "    <tr>\n",
       "      <th>max</th>\n",
       "      <td>71.966700</td>\n",
       "      <td>168.864300</td>\n",
       "      <td>28.810000</td>\n",
       "      <td>94.000000</td>\n",
       "      <td>100.000000</td>\n",
       "      <td>10.290000</td>\n",
       "      <td>1.613247e+09</td>\n",
       "    </tr>\n",
       "  </tbody>\n",
       "</table>\n",
       "</div>"
      ],
      "text/plain": [
       "        Latitude   Longitude   Max temp   Humidity  Cloudiness  Wind speed  \\\n",
       "count  45.000000   45.000000  45.000000  45.000000   45.000000   45.000000   \n",
       "mean    6.878816   18.636618  12.246889  76.844444   57.644444    3.751778   \n",
       "std    38.293840  108.238657  17.234041  14.088931   40.009178    2.354641   \n",
       "min   -54.800000 -175.200000 -34.940000  30.000000    0.000000    0.240000   \n",
       "25%   -23.120300  -73.414000   4.000000  73.000000   16.000000    2.460000   \n",
       "50%    -2.022600   37.976300  16.110000  79.000000   75.000000    3.590000   \n",
       "75%    41.123100  121.900000  26.050000  87.000000   96.000000    4.970000   \n",
       "max    71.966700  168.864300  28.810000  94.000000  100.000000   10.290000   \n",
       "\n",
       "               Date  \n",
       "count  4.500000e+01  \n",
       "mean   1.613247e+09  \n",
       "std    8.914854e+01  \n",
       "min    1.613246e+09  \n",
       "25%    1.613247e+09  \n",
       "50%    1.613247e+09  \n",
       "75%    1.613247e+09  \n",
       "max    1.613247e+09  "
      ]
     },
     "execution_count": 28,
     "metadata": {},
     "output_type": "execute_result"
    }
   ],
   "source": [
    "df_cities.describe() # No cities with humidity >100%"
   ]
  },
  {
   "cell_type": "code",
   "execution_count": 17,
   "metadata": {},
   "outputs": [
    {
     "data": {
      "text/plain": [
       "Int64Index([], dtype='int64')"
      ]
     },
     "execution_count": 17,
     "metadata": {},
     "output_type": "execute_result"
    }
   ],
   "source": [
    "#  Get the indices of cities that have humidity over 100%.\n"
   ]
  },
  {
   "cell_type": "code",
   "execution_count": 19,
   "metadata": {},
   "outputs": [
    {
     "data": {
      "text/html": [
       "<div>\n",
       "<style scoped>\n",
       "    .dataframe tbody tr th:only-of-type {\n",
       "        vertical-align: middle;\n",
       "    }\n",
       "\n",
       "    .dataframe tbody tr th {\n",
       "        vertical-align: top;\n",
       "    }\n",
       "\n",
       "    .dataframe thead th {\n",
       "        text-align: right;\n",
       "    }\n",
       "</style>\n",
       "<table border=\"1\" class=\"dataframe\">\n",
       "  <thead>\n",
       "    <tr style=\"text-align: right;\">\n",
       "      <th></th>\n",
       "      <th>City</th>\n",
       "      <th>Lat</th>\n",
       "      <th>Lng</th>\n",
       "      <th>Max Temp</th>\n",
       "      <th>Humidity</th>\n",
       "      <th>Cloudiness</th>\n",
       "      <th>Wind Speed</th>\n",
       "      <th>Country</th>\n",
       "      <th>Date</th>\n",
       "    </tr>\n",
       "  </thead>\n",
       "  <tbody>\n",
       "    <tr>\n",
       "      <td>0</td>\n",
       "      <td>butaritari</td>\n",
       "      <td>3.07</td>\n",
       "      <td>172.79</td>\n",
       "      <td>83.32</td>\n",
       "      <td>74</td>\n",
       "      <td>84</td>\n",
       "      <td>10.42</td>\n",
       "      <td>KI</td>\n",
       "      <td>1593605283</td>\n",
       "    </tr>\n",
       "    <tr>\n",
       "      <td>1</td>\n",
       "      <td>yerbogachen</td>\n",
       "      <td>61.28</td>\n",
       "      <td>108.01</td>\n",
       "      <td>79.52</td>\n",
       "      <td>58</td>\n",
       "      <td>20</td>\n",
       "      <td>7.70</td>\n",
       "      <td>RU</td>\n",
       "      <td>1593605121</td>\n",
       "    </tr>\n",
       "    <tr>\n",
       "      <td>2</td>\n",
       "      <td>cape town</td>\n",
       "      <td>-33.93</td>\n",
       "      <td>18.42</td>\n",
       "      <td>73.00</td>\n",
       "      <td>77</td>\n",
       "      <td>27</td>\n",
       "      <td>4.70</td>\n",
       "      <td>ZA</td>\n",
       "      <td>1593605039</td>\n",
       "    </tr>\n",
       "    <tr>\n",
       "      <td>3</td>\n",
       "      <td>touba</td>\n",
       "      <td>8.28</td>\n",
       "      <td>-7.68</td>\n",
       "      <td>79.97</td>\n",
       "      <td>75</td>\n",
       "      <td>82</td>\n",
       "      <td>3.58</td>\n",
       "      <td>CI</td>\n",
       "      <td>1593605284</td>\n",
       "    </tr>\n",
       "    <tr>\n",
       "      <td>4</td>\n",
       "      <td>jamestown</td>\n",
       "      <td>42.10</td>\n",
       "      <td>-79.24</td>\n",
       "      <td>64.00</td>\n",
       "      <td>88</td>\n",
       "      <td>1</td>\n",
       "      <td>6.93</td>\n",
       "      <td>US</td>\n",
       "      <td>1593605284</td>\n",
       "    </tr>\n",
       "  </tbody>\n",
       "</table>\n",
       "</div>"
      ],
      "text/plain": [
       "          City    Lat     Lng  Max Temp  Humidity  Cloudiness  Wind Speed  \\\n",
       "0   butaritari   3.07  172.79     83.32        74          84       10.42   \n",
       "1  yerbogachen  61.28  108.01     79.52        58          20        7.70   \n",
       "2    cape town -33.93   18.42     73.00        77          27        4.70   \n",
       "3        touba   8.28   -7.68     79.97        75          82        3.58   \n",
       "4    jamestown  42.10  -79.24     64.00        88           1        6.93   \n",
       "\n",
       "  Country        Date  \n",
       "0      KI  1593605283  \n",
       "1      RU  1593605121  \n",
       "2      ZA  1593605039  \n",
       "3      CI  1593605284  \n",
       "4      US  1593605284  "
      ]
     },
     "execution_count": 19,
     "metadata": {},
     "output_type": "execute_result"
    }
   ],
   "source": [
    "# Make a new DataFrame equal to the city data to drop all humidity outliers by index.\n",
    "# Passing \"inplace=False\" will make a copy of the city_data DataFrame, which we call \"clean_city_data\".\n"
   ]
  },
  {
   "cell_type": "code",
   "execution_count": null,
   "metadata": {},
   "outputs": [],
   "source": [
    "\n"
   ]
  },
  {
   "cell_type": "markdown",
   "metadata": {},
   "source": [
    "## Plotting the Data\n",
    "* Use proper labeling of the plots using plot titles (including date of analysis) and axes labels.\n",
    "* Save the plotted figures as .pngs."
   ]
  },
  {
   "cell_type": "markdown",
   "metadata": {},
   "source": [
    "## Latitude vs. Temperature Plot"
   ]
  },
  {
   "cell_type": "code",
   "execution_count": 29,
   "metadata": {},
   "outputs": [
    {
     "data": {
      "text/html": [
       "<div>\n",
       "<style scoped>\n",
       "    .dataframe tbody tr th:only-of-type {\n",
       "        vertical-align: middle;\n",
       "    }\n",
       "\n",
       "    .dataframe tbody tr th {\n",
       "        vertical-align: top;\n",
       "    }\n",
       "\n",
       "    .dataframe thead th {\n",
       "        text-align: right;\n",
       "    }\n",
       "</style>\n",
       "<table border=\"1\" class=\"dataframe\">\n",
       "  <thead>\n",
       "    <tr style=\"text-align: right;\">\n",
       "      <th></th>\n",
       "      <th>City</th>\n",
       "      <th>Latitude</th>\n",
       "      <th>Longitude</th>\n",
       "      <th>Max temp</th>\n",
       "      <th>Humidity</th>\n",
       "      <th>Cloudiness</th>\n",
       "      <th>Wind speed</th>\n",
       "      <th>Country</th>\n",
       "      <th>Date</th>\n",
       "    </tr>\n",
       "  </thead>\n",
       "  <tbody>\n",
       "    <tr>\n",
       "      <th>0</th>\n",
       "      <td>samarai</td>\n",
       "      <td>-10.6167</td>\n",
       "      <td>150.6667</td>\n",
       "      <td>27.42</td>\n",
       "      <td>70</td>\n",
       "      <td>27</td>\n",
       "      <td>2.61</td>\n",
       "      <td>PG</td>\n",
       "      <td>1613246773</td>\n",
       "    </tr>\n",
       "    <tr>\n",
       "      <th>1</th>\n",
       "      <td>bethel</td>\n",
       "      <td>41.3712</td>\n",
       "      <td>-73.4140</td>\n",
       "      <td>-2.00</td>\n",
       "      <td>31</td>\n",
       "      <td>90</td>\n",
       "      <td>2.06</td>\n",
       "      <td>US</td>\n",
       "      <td>1613246633</td>\n",
       "    </tr>\n",
       "    <tr>\n",
       "      <th>2</th>\n",
       "      <td>morro bay</td>\n",
       "      <td>35.3658</td>\n",
       "      <td>-120.8499</td>\n",
       "      <td>15.00</td>\n",
       "      <td>84</td>\n",
       "      <td>97</td>\n",
       "      <td>3.13</td>\n",
       "      <td>US</td>\n",
       "      <td>1613246773</td>\n",
       "    </tr>\n",
       "    <tr>\n",
       "      <th>3</th>\n",
       "      <td>ribeira grande</td>\n",
       "      <td>38.5167</td>\n",
       "      <td>-28.7000</td>\n",
       "      <td>14.00</td>\n",
       "      <td>77</td>\n",
       "      <td>75</td>\n",
       "      <td>10.29</td>\n",
       "      <td>PT</td>\n",
       "      <td>1613246774</td>\n",
       "    </tr>\n",
       "    <tr>\n",
       "      <th>4</th>\n",
       "      <td>esperance</td>\n",
       "      <td>-33.8667</td>\n",
       "      <td>121.9000</td>\n",
       "      <td>15.00</td>\n",
       "      <td>88</td>\n",
       "      <td>16</td>\n",
       "      <td>2.57</td>\n",
       "      <td>AU</td>\n",
       "      <td>1613246577</td>\n",
       "    </tr>\n",
       "  </tbody>\n",
       "</table>\n",
       "</div>"
      ],
      "text/plain": [
       "             City  Latitude  Longitude  Max temp  Humidity  Cloudiness  \\\n",
       "0         samarai  -10.6167   150.6667     27.42        70          27   \n",
       "1          bethel   41.3712   -73.4140     -2.00        31          90   \n",
       "2       morro bay   35.3658  -120.8499     15.00        84          97   \n",
       "3  ribeira grande   38.5167   -28.7000     14.00        77          75   \n",
       "4       esperance  -33.8667   121.9000     15.00        88          16   \n",
       "\n",
       "   Wind speed Country        Date  \n",
       "0        2.61      PG  1613246773  \n",
       "1        2.06      US  1613246633  \n",
       "2        3.13      US  1613246773  \n",
       "3       10.29      PT  1613246774  \n",
       "4        2.57      AU  1613246577  "
      ]
     },
     "execution_count": 29,
     "metadata": {},
     "output_type": "execute_result"
    }
   ],
   "source": [
    "df_cities.head()"
   ]
  },
  {
   "cell_type": "code",
   "execution_count": 41,
   "metadata": {},
   "outputs": [
    {
     "data": {
      "image/png": "[encoded data removed]",
      "text/plain": [
       "<Figure size 432x288 with 1 Axes>"
      ]
     },
     "metadata": {
      "needs_background": "light"
     },
     "output_type": "display_data"
    }
   ],
   "source": [
    "x_values = df_cities['Latitude']\n",
    "y_values = df_cities['Max temp']\n",
    "plt.scatter(x_values, y_values, color='springgreen', alpha=0.45, edgecolors='indigo')\n",
    "plt.xlabel('Latitude')\n",
    "plt.ylabel('Max temperature (C)')\n",
    "plt.title('Temperature vs Latitude (2/13/2021)')\n",
    "plt.show()"
   ]
  },
  {
   "cell_type": "code",
   "execution_count": 10,
   "metadata": {
    "scrolled": true
   },
   "outputs": [
    {
     "data": {
      "image/png": "[encoded data removed]",
      "text/plain": [
       "<Figure size 432x288 with 1 Axes>"
      ]
     },
     "metadata": {
      "needs_background": "light"
     },
     "output_type": "display_data"
    }
   ],
   "source": []
  },
  {
   "cell_type": "markdown",
   "metadata": {},
   "source": [
    "## Latitude vs. Humidity Plot"
   ]
  },
  {
   "cell_type": "code",
   "execution_count": 42,
   "metadata": {},
   "outputs": [
    {
     "data": {
      "image/png": "[encoded data removed]",
      "text/plain": [
       "<Figure size 432x288 with 1 Axes>"
      ]
     },
     "metadata": {
      "needs_background": "light"
     },
     "output_type": "display_data"
    }
   ],
   "source": [
    "x_values = df_cities['Latitude']\n",
    "y_values = df_cities['Humidity']\n",
    "plt.scatter(x_values, y_values, color='springgreen', alpha=0.45, edgecolors='indigo')\n",
    "plt.xlabel('Latitude')\n",
    "plt.ylabel('Humidity (%)')\n",
    "plt.title('Humidity vs Latitude (2/13/2021)')\n",
    "plt.show()"
   ]
  },
  {
   "cell_type": "markdown",
   "metadata": {},
   "source": [
    "## Latitude vs. Cloudiness Plot"
   ]
  },
  {
   "cell_type": "code",
   "execution_count": 43,
   "metadata": {},
   "outputs": [
    {
     "data": {
      "image/png": "[encoded data removed]",
      "text/plain": [
       "<Figure size 432x288 with 1 Axes>"
      ]
     },
     "metadata": {
      "needs_background": "light"
     },
     "output_type": "display_data"
    }
   ],
   "source": [
    "x_values = df_cities['Latitude']\n",
    "y_values = df_cities['Cloudiness']\n",
    "plt.scatter(x_values, y_values, color='springgreen', alpha=0.45, edgecolors='indigo')\n",
    "plt.xlabel('Latitude')\n",
    "plt.ylabel('Cloudiness (%)')\n",
    "plt.title('Cloudiness vs Latitude (2/13/2021)')\n",
    "plt.show()"
   ]
  },
  {
   "cell_type": "markdown",
   "metadata": {},
   "source": [
    "## Latitude vs. Wind Speed Plot"
   ]
  },
  {
   "cell_type": "code",
   "execution_count": 44,
   "metadata": {},
   "outputs": [
    {
     "data": {
      "image/png": "[encoded data removed]",
      "text/plain": [
       "<Figure size 432x288 with 1 Axes>"
      ]
     },
     "metadata": {
      "needs_background": "light"
     },
     "output_type": "display_data"
    }
   ],
   "source": [
    "x_values = df_cities['Latitude']\n",
    "y_values = df_cities['Wind speed']\n",
    "plt.scatter(x_values, y_values, color='springgreen', alpha=0.45, edgecolors='indigo')\n",
    "plt.xlabel('Latitude')\n",
    "plt.ylabel('Wind Speed (kph)')\n",
    "plt.title('Wind Speed vs Latitude (2/13/2021)')\n",
    "plt.show()"
   ]
  },
  {
   "cell_type": "markdown",
   "metadata": {},
   "source": [
    "## Linear Regression"
   ]
  },
  {
   "cell_type": "markdown",
   "metadata": {},
   "source": [
    "####  Northern Hemisphere - Max Temp vs. Latitude Linear Regression"
   ]
  },
  {
   "cell_type": "code",
   "execution_count": null,
   "metadata": {},
   "outputs": [],
   "source": []
  },
  {
   "cell_type": "code",
   "execution_count": 25,
   "metadata": {},
   "outputs": [
    {
     "name": "stdout",
     "output_type": "stream",
     "text": [
      "The r-value is: 0.46937863826630627\n"
     ]
    },
    {
     "data": {
      "image/png": "[encoded data removed]",
      "text/plain": [
       "<Figure size 432x288 with 1 Axes>"
      ]
     },
     "metadata": {
      "needs_background": "light"
     },
     "output_type": "display_data"
    }
   ],
   "source": []
  },
  {
   "cell_type": "markdown",
   "metadata": {},
   "source": [
    "####  Southern Hemisphere - Max Temp vs. Latitude Linear Regression"
   ]
  },
  {
   "cell_type": "code",
   "execution_count": 26,
   "metadata": {},
   "outputs": [
    {
     "name": "stdout",
     "output_type": "stream",
     "text": [
      "The r-value is: 0.6082708688906918\n"
     ]
    },
    {
     "data": {
      "image/png": "[encoded data removed]",
      "text/plain": [
       "<Figure size 432x288 with 1 Axes>"
      ]
     },
     "metadata": {
      "needs_background": "light"
     },
     "output_type": "display_data"
    }
   ],
   "source": []
  },
  {
   "cell_type": "markdown",
   "metadata": {},
   "source": [
    "####  Northern Hemisphere - Humidity (%) vs. Latitude Linear Regression"
   ]
  },
  {
   "cell_type": "code",
   "execution_count": 27,
   "metadata": {},
   "outputs": [
    {
     "name": "stdout",
     "output_type": "stream",
     "text": [
      "The r-value is: 0.000543987878808455\n"
     ]
    },
    {
     "data": {
      "image/png": "[encoded data removed]",
      "text/plain": [
       "<Figure size 432x288 with 1 Axes>"
      ]
     },
     "metadata": {
      "needs_background": "light"
     },
     "output_type": "display_data"
    }
   ],
   "source": []
  },
  {
   "cell_type": "markdown",
   "metadata": {},
   "source": [
    "####  Southern Hemisphere - Humidity (%) vs. Latitude Linear Regression"
   ]
  },
  {
   "cell_type": "code",
   "execution_count": 28,
   "metadata": {},
   "outputs": [
    {
     "name": "stdout",
     "output_type": "stream",
     "text": [
      "The r-value is: 0.014985174297345524\n"
     ]
    },
    {
     "data": {
      "image/png": "[encoded data removed]",
      "text/plain": [
       "<Figure size 432x288 with 1 Axes>"
      ]
     },
     "metadata": {
      "needs_background": "light"
     },
     "output_type": "display_data"
    }
   ],
   "source": []
  },
  {
   "cell_type": "markdown",
   "metadata": {},
   "source": [
    "####  Northern Hemisphere - Cloudiness (%) vs. Latitude Linear Regression"
   ]
  },
  {
   "cell_type": "code",
   "execution_count": 29,
   "metadata": {},
   "outputs": [
    {
     "name": "stdout",
     "output_type": "stream",
     "text": [
      "The r-value is: 0.0020898727664228514\n"
     ]
    },
    {
     "data": {
      "image/png": "[encoded data removed]",
      "text/plain": [
       "<Figure size 432x288 with 1 Axes>"
      ]
     },
     "metadata": {
      "needs_background": "light"
     },
     "output_type": "display_data"
    }
   ],
   "source": []
  },
  {
   "cell_type": "markdown",
   "metadata": {},
   "source": [
    "####  Southern Hemisphere - Cloudiness (%) vs. Latitude Linear Regression"
   ]
  },
  {
   "cell_type": "code",
   "execution_count": 30,
   "metadata": {},
   "outputs": [
    {
     "name": "stdout",
     "output_type": "stream",
     "text": [
      "The r-value is: 0.0035263772085582894\n"
     ]
    },
    {
     "data": {
      "image/png": "[encoded data removed]",
      "text/plain": [
       "<Figure size 432x288 with 1 Axes>"
      ]
     },
     "metadata": {
      "needs_background": "light"
     },
     "output_type": "display_data"
    }
   ],
   "source": []
  },
  {
   "cell_type": "markdown",
   "metadata": {},
   "source": [
    "####  Northern Hemisphere - Wind Speed (mph) vs. Latitude Linear Regression"
   ]
  },
  {
   "cell_type": "code",
   "execution_count": 31,
   "metadata": {},
   "outputs": [
    {
     "name": "stdout",
     "output_type": "stream",
     "text": [
      "The r-value is: 0.04019723576144484\n"
     ]
    },
    {
     "data": {
      "image/png": "[encoded data removed]",
      "text/plain": [
       "<Figure size 432x288 with 1 Axes>"
      ]
     },
     "metadata": {
      "needs_background": "light"
     },
     "output_type": "display_data"
    }
   ],
   "source": []
  },
  {
   "cell_type": "markdown",
   "metadata": {},
   "source": [
    "####  Southern Hemisphere - Wind Speed (mph) vs. Latitude Linear Regression"
   ]
  },
  {
   "cell_type": "code",
   "execution_count": 32,
   "metadata": {},
   "outputs": [
    {
     "name": "stdout",
     "output_type": "stream",
     "text": [
      "The r-value is: 0.017128274759839232\n"
     ]
    },
    {
     "data": {
      "image/png": "[encoded data removed]",
      "text/plain": [
       "<Figure size 432x288 with 1 Axes>"
      ]
     },
     "metadata": {
      "needs_background": "light"
     },
     "output_type": "display_data"
    }
   ],
   "source": []
  },
  {
   "cell_type": "code",
   "execution_count": null,
   "metadata": {},
   "outputs": [],
   "source": []
  }
 ],
 "metadata": {
  "anaconda-cloud": {},
  "kernel_info": {
   "name": "python3"
  },
  "kernelspec": {
   "display_name": "Python 3",
   "language": "python",
   "name": "python3"
  },
  "language_info": {
   "codemirror_mode": {
    "name": "ipython",
    "version": 3
   },
   "file_extension": ".py",
   "mimetype": "text/x-python",
   "name": "python",
   "nbconvert_exporter": "python",
   "pygments_lexer": "ipython3",
   "version": "3.7.6"
  },
  "latex_envs": {
   "LaTeX_envs_menu_present": true,
   "autoclose": false,
   "autocomplete": true,
   "bibliofile": "biblio.bib",
   "cite_by": "apalike",
   "current_citInitial": 1,
   "eqLabelWithNumbers": true,
   "eqNumInitial": 1,
   "hotkeys": {
    "equation": "Ctrl-E",
    "itemize": "Ctrl-I"
   },
   "labels_anchors": false,
   "latex_user_defs": false,
   "report_style_numbering": false,
   "user_envs_cfg": false
  },
  "nteract": {
   "version": "0.12.3"
  }
 },
 "nbformat": 4,
 "nbformat_minor": 2
}
